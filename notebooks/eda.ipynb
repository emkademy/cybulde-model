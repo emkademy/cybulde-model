{
 "cells": [
  {
   "cell_type": "code",
   "execution_count": 1,
   "id": "c3cf0252-f340-4eaa-8c1e-9f6319961a3b",
   "metadata": {},
   "outputs": [
    {
     "name": "stdout",
     "output_type": "stream",
     "text": [
      "/app\n"
     ]
    },
    {
     "name": "stderr",
     "output_type": "stream",
     "text": [
      "/home/kyuksel/venv/lib/python3.10/site-packages/IPython/core/magics/osm.py:417: UserWarning: using dhist requires you to install the `pickleshare` library.\n",
      "  self.shell.db['dhist'] = compress_dhist(dhist)[-100:]\n"
     ]
    }
   ],
   "source": [
    "cd /app"
   ]
  },
  {
   "cell_type": "code",
   "execution_count": 2,
   "id": "6d7f9158-7189-4cea-a159-0d6ad2dd8681",
   "metadata": {},
   "outputs": [],
   "source": [
    "import pandas as pd"
   ]
  },
  {
   "cell_type": "code",
   "execution_count": 4,
   "id": "01640704-76cf-476e-9c7b-ea4716dbd97d",
   "metadata": {},
   "outputs": [],
   "source": [
    "train_df_path: str = \"gs://emkademy/cybulde/data/processed/rebalanced_splits/train.parquet\"\n",
    "dev_df_path: str = \"gs://emkademy/cybulde/data/processed/rebalanced_splits/dev.parquet\"\n",
    "test_df_path: str = \"gs://emkademy/cybulde/data/processed/rebalanced_splits/test.parquet\"\n",
    "\n",
    "train_df = pd.read_parquet(train_df_path)\n",
    "dev_df = pd.read_parquet(dev_df_path)\n",
    "test_df = pd.read_parquet(test_df_path)"
   ]
  },
  {
   "cell_type": "code",
   "execution_count": 5,
   "id": "b3a7cb8a-5f49-4195-9de5-7f0131393b72",
   "metadata": {},
   "outputs": [
    {
     "data": {
      "text/html": [
       "<div>\n",
       "<style scoped>\n",
       "    .dataframe tbody tr th:only-of-type {\n",
       "        vertical-align: middle;\n",
       "    }\n",
       "\n",
       "    .dataframe tbody tr th {\n",
       "        vertical-align: top;\n",
       "    }\n",
       "\n",
       "    .dataframe thead th {\n",
       "        text-align: right;\n",
       "    }\n",
       "</style>\n",
       "<table border=\"1\" class=\"dataframe\">\n",
       "  <thead>\n",
       "    <tr style=\"text-align: right;\">\n",
       "      <th></th>\n",
       "      <th>label</th>\n",
       "      <th>dataset_name</th>\n",
       "      <th>text</th>\n",
       "      <th>split</th>\n",
       "      <th>cleaned_text</th>\n",
       "    </tr>\n",
       "  </thead>\n",
       "  <tbody>\n",
       "    <tr>\n",
       "      <th>13501</th>\n",
       "      <td>0</td>\n",
       "      <td>ghc</td>\n",
       "      <td>Boris Johnson has written another storming art...</td>\n",
       "      <td>train</td>\n",
       "      <td>boris johnson written another storming article...</td>\n",
       "    </tr>\n",
       "    <tr>\n",
       "      <th>2001</th>\n",
       "      <td>0</td>\n",
       "      <td>ghc</td>\n",
       "      <td>Thanks Ken! And thanks always for your photogr...</td>\n",
       "      <td>train</td>\n",
       "      <td>thanks ken and thanks always photography tips</td>\n",
       "    </tr>\n",
       "    <tr>\n",
       "      <th>15944</th>\n",
       "      <td>0</td>\n",
       "      <td>ghc</td>\n",
       "      <td>First cousin marriages do not always produce g...</td>\n",
       "      <td>train</td>\n",
       "      <td>first cousin marriages always produce genetica...</td>\n",
       "    </tr>\n",
       "    <tr>\n",
       "      <th>5218</th>\n",
       "      <td>0</td>\n",
       "      <td>ghc</td>\n",
       "      <td>WATCH: Texas Woman Flees with Baby in Carrier ...</td>\n",
       "      <td>train</td>\n",
       "      <td>watch texas woman flees baby carrier after hig...</td>\n",
       "    </tr>\n",
       "    <tr>\n",
       "      <th>7452</th>\n",
       "      <td>0</td>\n",
       "      <td>ghc</td>\n",
       "      <td>POLL: Should I run for President AGAIN?</td>\n",
       "      <td>train</td>\n",
       "      <td>poll should i run president again</td>\n",
       "    </tr>\n",
       "  </tbody>\n",
       "</table>\n",
       "</div>"
      ],
      "text/plain": [
       "       label dataset_name                                               text  \\\n",
       "13501      0          ghc  Boris Johnson has written another storming art...   \n",
       "2001       0          ghc  Thanks Ken! And thanks always for your photogr...   \n",
       "15944      0          ghc  First cousin marriages do not always produce g...   \n",
       "5218       0          ghc  WATCH: Texas Woman Flees with Baby in Carrier ...   \n",
       "7452       0          ghc            POLL: Should I run for President AGAIN?   \n",
       "\n",
       "       split                                       cleaned_text  \n",
       "13501  train  boris johnson written another storming article...  \n",
       "2001   train      thanks ken and thanks always photography tips  \n",
       "15944  train  first cousin marriages always produce genetica...  \n",
       "5218   train  watch texas woman flees baby carrier after hig...  \n",
       "7452   train                  poll should i run president again  "
      ]
     },
     "execution_count": 5,
     "metadata": {},
     "output_type": "execute_result"
    }
   ],
   "source": [
    "train_df.head()"
   ]
  },
  {
   "cell_type": "code",
   "execution_count": 8,
   "id": "e50cf257-c0d5-4151-8bc6-cadd45ba4ddb",
   "metadata": {},
   "outputs": [],
   "source": [
    "value_counts = train_df[\"label\"].value_counts()"
   ]
  },
  {
   "cell_type": "code",
   "execution_count": 9,
   "id": "d7e371d7-3c10-4887-aa4c-5b509e860e0a",
   "metadata": {},
   "outputs": [
    {
     "name": "stdout",
     "output_type": "stream",
     "text": [
      "3.8456452897275875\n"
     ]
    }
   ],
   "source": [
    "pos_weight = value_counts[0] / value_counts[1]\n",
    "print(pos_weight)"
   ]
  },
  {
   "cell_type": "code",
   "execution_count": null,
   "id": "78c43714-18bd-45aa-b3b6-b6296b4667f9",
   "metadata": {},
   "outputs": [],
   "source": []
  }
 ],
 "metadata": {
  "kernelspec": {
   "display_name": "Python 3 (ipykernel)",
   "language": "python",
   "name": "python3"
  },
  "language_info": {
   "codemirror_mode": {
    "name": "ipython",
    "version": 3
   },
   "file_extension": ".py",
   "mimetype": "text/x-python",
   "name": "python",
   "nbconvert_exporter": "python",
   "pygments_lexer": "ipython3",
   "version": "3.10.13"
  }
 },
 "nbformat": 4,
 "nbformat_minor": 5
}
